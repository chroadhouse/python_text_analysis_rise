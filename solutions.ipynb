{
 "cells": [
  {
   "cell_type": "markdown",
   "id": "71e10fb9",
   "metadata": {},
   "source": [
    "# Solution File\n",
    "You can use this file as an easy way to find solutions to each exercise. They will be linked by the title. \n",
    "\n",
    "For some of the tasks, more code than the original exericse will be included in the solution, this will be becuase of code that was already in that sheet"
   ]
  },
  {
   "cell_type": "markdown",
   "id": "446fa7af",
   "metadata": {},
   "source": [
    "## Exercise 1\n",
    "Create and print variables for your own student profile. Include:\n",
    "- Name\n",
    "- Age\n",
    "- Average Grade \n",
    "- Undergraduate or Postgraduate"
   ]
  },
  {
   "cell_type": "code",
   "execution_count": null,
   "id": "7255ce40",
   "metadata": {},
   "outputs": [],
   "source": [
    "# Name: String\n",
    "name = 'James'\n",
    "# Age: Int\n",
    "age = 15\n",
    "# Average Grade\n",
    "avg_grade = 0.8\n",
    "# Undergraduate or Postgraduate: Boolean\n",
    "undergraduate = False\n",
    "\n",
    "print(f'Hi my name is {name} and I am {age} years old')\n",
    "print('I am currently an {}')"
   ]
  }
 ],
 "metadata": {
  "language_info": {
   "name": "python"
  }
 },
 "nbformat": 4,
 "nbformat_minor": 5
}
