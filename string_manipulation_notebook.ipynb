{
 "cells": [
  {
   "cell_type": "markdown",
   "id": "25bac5dd",
   "metadata": {},
   "source": [
    "# String Manipulation\n",
    "In the last notebook you got to grips with working and understanding variables and datatypes. With this self-study pack being centered around  "
   ]
  }
 ],
 "metadata": {
  "language_info": {
   "name": "python"
  }
 },
 "nbformat": 4,
 "nbformat_minor": 5
}
