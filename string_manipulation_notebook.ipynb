{
 "cells": [
  {
   "cell_type": "markdown",
   "id": "25bac5dd",
   "metadata": {},
   "source": [
    "# String Manipulation\n",
    "Strings are one of the most fundamental data types, especcially in text analysis. A string is simply a sequence of characters. In this notebook, we'll explore how to slice, dice and transform strings to get into the format we need"
   ]
  },
  {
   "cell_type": "markdown",
   "id": "36a4270b",
   "metadata": {},
   "source": [
    "## Basic Operations: Concatenation and Repetition\n",
    "You can easily combine (concatenate) strings used the + operator or repeat them with the * operator."
   ]
  },
  {
   "cell_type": "code",
   "execution_count": 3,
   "id": "70d4a837",
   "metadata": {},
   "outputs": [
    {
     "name": "stdout",
     "output_type": "stream",
     "text": [
      "Hello world\n"
     ]
    }
   ],
   "source": [
    "# Concat\n",
    "greeting = 'Hello'\n",
    "name = 'world'\n",
    "\n",
    "full_greeting = greeting+' ' + name\n",
    "print(full_greeting)"
   ]
  },
  {
   "cell_type": "code",
   "execution_count": 4,
   "id": "e96db259",
   "metadata": {},
   "outputs": [
    {
     "name": "stdout",
     "output_type": "stream",
     "text": [
      "HelloHelloHelloHelloHelloHelloHelloHelloHelloHello\n"
     ]
    }
   ],
   "source": [
    "# Repitition\n",
    "new_greeting = 'Hello' * 10\n",
    "print(new_greeting)"
   ]
  },
  {
   "cell_type": "markdown",
   "id": "9e9807c2",
   "metadata": {},
   "source": [
    "### Slicing and Indexing\n",
    "Since strings are sequences, you can access individual characters by **indexing**. We can also access sections of a string with **slicing**. Remember, Python indexing starts with 0, meaning that the first character in the string is index 0"
   ]
  },
  {
   "cell_type": "code",
   "execution_count": 5,
   "id": "8a0de048",
   "metadata": {},
   "outputs": [
    {
     "name": "stdout",
     "output_type": "stream",
     "text": [
      "First character: T\n",
      "Last character: !\n",
      "A slice: analysis\n",
      "Slice from start: Text\n",
      "Slice to end: fun!\n"
     ]
    }
   ],
   "source": [
    "sentence = \"Text analysis is fun!\"\n",
    "\n",
    "# Get the first character (at index 0)\n",
    "print(f\"First character: {sentence[0]}\")\n",
    "\n",
    "# Get the last character\n",
    "print(f\"Last character: {sentence[-1]}\")\n",
    "\n",
    "# Slice from index 5 up to (but not including) index 13\n",
    "analysis_word = sentence[5:13]\n",
    "print(f\"A slice: {analysis_word}\")\n",
    "\n",
    "# Slice from the beginning to index 4\n",
    "print(f\"Slice from start: {sentence[:4]}\")\n",
    "\n",
    "# Slice from index 17 to the end\n",
    "print(f\"Slice to end: {sentence[17:]}\")\n"
   ]
  },
  {
   "cell_type": "markdown",
   "id": "0f62ce74",
   "metadata": {},
   "source": [
    "### Common String Methods\n",
    "Python strings come with many powerful built=in methods to perform common tasks. \n",
    "- lower() / upper(): Convert the entire string to lowercase or uppercase.\n",
    "- strip(): Remove whitespace (spaces, tabs, newlines) from the beginning and end of a string.\n",
    "- replace(old, new): Replace all occurrences of a substring with another.\n",
    "- split(delimiter): Split the string into a list of substrings based on a delimiter.\n",
    "- find(substring): Returns the starting index of the first occurrence of a substring. Returns -1 if not found.\n",
    "- join(list_of_strings): Joins elements of a list into a single string, with the string as the separator"
   ]
  },
  {
   "cell_type": "code",
   "execution_count": 6,
   "id": "255e1a0d",
   "metadata": {},
   "outputs": [
    {
     "name": "stdout",
     "output_type": "stream",
     "text": [
      "Cleaned: 'here is a messy string.'\n",
      "Replaced: 'here is a clean string.'\n",
      "Words: ['here', 'is', 'a', 'clean', 'string.']\n",
      "Joined: 'here | is | a | clean | string.'\n",
      "'string' found at index: 16\n"
     ]
    }
   ],
   "source": [
    "raw_text = \"   Here is a messy string.   \"\n",
    "\n",
    "# Cleaning up\n",
    "clean_text = raw_text.strip().lower()\n",
    "print(f\"Cleaned: '{clean_text}'\")\n",
    "\n",
    "# Replacing text\n",
    "replaced_text = clean_text.replace(\"messy\", \"clean\")\n",
    "print(f\"Replaced: '{replaced_text}'\")\n",
    "\n",
    "# Splitting into a list of words\n",
    "words = replaced_text.split(\" \")\n",
    "print(f\"Words: {words}\")\n",
    "\n",
    "# Joining the list back into a string\n",
    "new_sentence = \" | \".join(words)\n",
    "print(f\"Joined: '{new_sentence}'\")\n",
    "\n",
    "# Finding a substring\n",
    "position = replaced_text.find(\"string\")\n",
    "print(f\"'string' found at index: {position}\")"
   ]
  },
  {
   "cell_type": "markdown",
   "id": "a59a7887",
   "metadata": {},
   "source": [
    "### F-strings for formatting\n",
    "Formatted strings (or f-strings) are the modern way to embed expressions inside string literals. Just prefix the string with an f, and place your variables or expressions in {}"
   ]
  },
  {
   "cell_type": "code",
   "execution_count": 7,
   "id": "29bc3f51",
   "metadata": {},
   "outputs": [
    {
     "name": "stdout",
     "output_type": "stream",
     "text": [
      "Project 'Text Analysis' started in 2025. Current status: Ongoing.\n"
     ]
    }
   ],
   "source": [
    "project = \"Text Analysis\"\n",
    "year = 2025\n",
    "status = \"Ongoing\"\n",
    "\n",
    "# Create a summary using an f-string\n",
    "summary = f\"Project '{project}' started in {year}. Current status: {status}.\"\n",
    "print(summary)"
   ]
  }
 ],
 "metadata": {
  "kernelspec": {
   "display_name": "base",
   "language": "python",
   "name": "python3"
  },
  "language_info": {
   "codemirror_mode": {
    "name": "ipython",
    "version": 3
   },
   "file_extension": ".py",
   "mimetype": "text/x-python",
   "name": "python",
   "nbconvert_exporter": "python",
   "pygments_lexer": "ipython3",
   "version": "3.13.5"
  }
 },
 "nbformat": 4,
 "nbformat_minor": 5
}
