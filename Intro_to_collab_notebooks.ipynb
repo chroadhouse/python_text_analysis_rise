{
 "cells": [
  {
   "cell_type": "markdown",
   "id": "e944fbd1",
   "metadata": {},
   "source": [
    "# Introduction to Jupyter Notebooks & Collab\n",
    "You can think of Jupyter Notebooks and Google Collab as a digital notebook, where you can write notes, run experiments (with code), and see the results, all in one place. \n",
    "\n",
    "***Why we are using it:***\n",
    "- Interactive Learning Environement: Allowing you to write small bits of code at a time and instantly see what they do \n",
    "- Machine Compatability: Even before programming, setting up different editors and ensuring compatibale versions of programming langauages can lead to cause many problems. \n",
    "- Can be run in the cloud: With us working in collab it means that all our code actually runs on Google's machines on the cloud, meaning that older machines are unlikley to cause any issue. #"
   ]
  },
  {
   "cell_type": "markdown",
   "id": "6a4cadad",
   "metadata": {},
   "source": [
    "In Notebooks we have two types of cell that we can use:\n",
    "***Code Cells***\n",
    "- They allow us to write code in blocks that we can run one by one. The output will then appear under the cell. \n",
    "\n",
    "***Markdown Cells***\n",
    "- This is where you write text, like the explanations you are reading right now\n",
    "- They are for narration, formatting, adding images, and making the notebook easy to read. "
   ]
  },
  {
   "cell_type": "code",
   "execution_count": null,
   "id": "b2537a8d",
   "metadata": {},
   "outputs": [],
   "source": [
    "x = 10 "
   ]
  },
  {
   "cell_type": "markdown",
   "id": "d63219e6",
   "metadata": {},
   "source": [
    "Above is a block of code. You can run these blocks of code on their own or together sequentially by running the run all. If you run the blocks of code out of order, you can run into errors; but we will cover this in more detai in future notebooks"
   ]
  }
 ],
 "metadata": {
  "language_info": {
   "name": "python"
  }
 },
 "nbformat": 4,
 "nbformat_minor": 5
}
