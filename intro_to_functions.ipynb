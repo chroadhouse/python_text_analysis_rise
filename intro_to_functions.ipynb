{
 "cells": [
  {
   "cell_type": "markdown",
   "id": "72e56df5",
   "metadata": {},
   "source": [
    "# Intro to functions\n",
    "So far we have been looking at running code sequentially. But what happens when we need to perform the exact same task in multiple times in different partrs of your program? You could copy and paste your code, but this is inefficient and prone to errors. \n",
    "\n",
    "The solution is the __Function__\n",
    "A function is a reusable block of code that performs a specific task. You define it once, and you can use it (call it) as many times are you want. \n",
    "\n",
    "### Defining and Calling a Simple Function\n",
    "Let's start with the simplest function possible. The syntax uses the _def_ keyword, a function name, paratheses {} and a colon:. The code that belongs to the function is indented underneath"
   ]
  },
  {
   "cell_type": "code",
   "execution_count": null,
   "id": "32036c2c",
   "metadata": {},
   "outputs": [],
   "source": [
    "# DEFINING the function. This code doesn't run yet.\n",
    "# It's like writing down the recipe.\n",
    "def say_hello():\n",
    "    print(\"Hello! Welcome to the world of functions.\")\n",
    "\n",
    "# Now we are CALLING the function. This is what actually runs the code inside it.\n",
    "# It's like deciding to cook the recipe now.\n",
    "say_hello()\n",
    "say_hello() # We can call it as many times as we want!"
   ]
  },
  {
   "cell_type": "markdown",
   "id": "90ec2f40",
   "metadata": {},
   "source": [
    "### Adding Inputs (Parameters)\n",
    "Our first function is always the same. What if we want to give it some information to work with? We can do this by adding __parameters__ inside the parentheses. "
   ]
  },
  {
   "cell_type": "code",
   "execution_count": null,
   "id": "56c38e54",
   "metadata": {},
   "outputs": [],
   "source": [
    "# 'name' is a parameter. It's a placeholder for the information we will provide.\n",
    "def greet_person(name):\n",
    "    print(f\"Hello, {name}! It's nice to meet you.\")\n",
    "\n",
    "# When we call the function, the value we provide (\"Alice\", \"Bob\") is called an argument.\n",
    "greet_person(\"Alice\")\n",
    "greet_person(\"Bob\")"
   ]
  },
  {
   "cell_type": "markdown",
   "id": "c5c13aec",
   "metadata": {},
   "source": [
    "You can have multiple parameters, seperated by commas"
   ]
  },
  {
   "cell_type": "code",
   "execution_count": null,
   "id": "9b6d79ca",
   "metadata": {},
   "outputs": [],
   "source": [
    "def add_two_numbers(num1, num2):\n",
    "    total = num1 + num2\n",
    "    print(f\"The sum of {num1} and {num2} is {total}\")\n",
    "\n",
    "add_two_numbers(5, 3)\n",
    "add_two_numbers(100, 42)"
   ]
  },
  {
   "cell_type": "markdown",
   "id": "b73f2904",
   "metadata": {},
   "source": [
    "### Getting Outputs\n",
    "So far, our functions have only printed results to the screen. What if we want the function to give us a value back that we can store in a variable and use later? This is the most important job of a function, and it's done with the __return__ statement. When a function hits a return statement, it stops and sendn that value back. "
   ]
  },
  {
   "cell_type": "code",
   "execution_count": null,
   "id": "b43b71dc",
   "metadata": {},
   "outputs": [],
   "source": [
    "def add_and_return(num1, num2):\n",
    "    total = num1 + num2\n",
    "    return total # This sends the value of 'total' back out of the function\n",
    "\n",
    "# Call the function and CAPTURE the returned value in a variable\n",
    "result = add_and_return(10, 5)\n",
    "\n",
    "print(f\"The returned value is: {result}\")\n",
    "print(f\"We can now use this result in other calculations, like {result} * 2 = {result * 2}\")"
   ]
  },
  {
   "cell_type": "markdown",
   "id": "1c0c0346",
   "metadata": {},
   "source": [
    "A function that prints is like a blackbox that talks to you. A function that returns is like a factory that gives you a finished product to work with. For data analysis, you will almost alwlays use return. \n",
    "\n",
    "## Exercises\n",
    "\n",
    "### Exercise 1: Area Calculator\n",
    "Write a function called calculate_area that takes two parameters, width and height. The function should multiply them together and return the resultling area"
   ]
  },
  {
   "cell_type": "code",
   "execution_count": null,
   "id": "520fca78",
   "metadata": {},
   "outputs": [],
   "source": [
    "# Exercise 1"
   ]
  },
  {
   "cell_type": "markdown",
   "id": "012ff956",
   "metadata": {},
   "source": [
    "### Exercise 2: Word Counter\n",
    "Write a function called count_words that takes a single parameter, text_string. The function should return the number of words in a string (Hint: a word is a sequence of characters seperated by spaces)"
   ]
  },
  {
   "cell_type": "code",
   "execution_count": null,
   "id": "ed474853",
   "metadata": {},
   "outputs": [],
   "source": [
    "# Exercise 2"
   ]
  }
 ],
 "metadata": {
  "kernelspec": {
   "display_name": "base",
   "language": "python",
   "name": "python3"
  },
  "language_info": {
   "name": "python",
   "version": "3.13.5"
  }
 },
 "nbformat": 4,
 "nbformat_minor": 5
}
