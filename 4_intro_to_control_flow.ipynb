{
 "cells": [
  {
   "cell_type": "markdown",
   "id": "7da6a973",
   "metadata": {},
   "source": [
    "# Intro to Control Flow\n",
    "We're going to learn how to make our code much more powerful by controlling _how_ and _when_ it runs. This is called Control Flow\n",
    "\n",
    "Think of a program like a recipe. So far, we've only written recipes thhat are a simple list of steps from top to bottom. Control flow lets us add logic like:\n",
    "- __If__ the mix is too dry, __then__ add more water (This is a conditional loop)\n",
    "- __Repeat__ the stirring 10 times (This is a Loop)\n",
    "\n",
    "In this notebooks we'll cover: \n",
    "- __Conditional Logic__: Using if, elif and else to make decisions\n",
    "- __Loops__: Using for loops to repeat actions for every item in a collection"
   ]
  },
  {
   "cell_type": "markdown",
   "id": "52a3daa8",
   "metadata": {},
   "source": [
    "## Part 1:  Conditional  Logic (Making Decisions)\n",
    "Often programming, we only want to run code if a certain condition is met. This is where if statements come in. \n",
    "\n",
    "#### The if statement\n",
    "An if statement runs a block of code _only if_ its condition is True.\n",
    "\n",
    "Let's look at the syntax. Pay close attention to the __colon (:)__ at the end of the line and theh indentation of the code below it. That indentation is crucial - it tells Python that the indented code belongs to the if statement"
   ]
  },
  {
   "cell_type": "code",
   "execution_count": 1,
   "id": "4ee76375",
   "metadata": {},
   "outputs": [
    {
     "name": "stdout",
     "output_type": "stream",
     "text": [
      "It's a warm day, you don't need a jacket!\n"
     ]
    }
   ],
   "source": [
    "temperature = 25\n",
    "\n",
    "# The condition is temperature > 20. If this is true, the indented code will run.\n",
    "if temperature > 20:\n",
    "    print(\"It's a warm day, you don't need a jacket!\")"
   ]
  },
  {
   "cell_type": "markdown",
   "id": "42678849",
   "metadata": {},
   "source": [
    "#### Adding else for Alternatives\n",
    "What if the condition is False ? We can use an else statement to run a different block of code. "
   ]
  },
  {
   "cell_type": "code",
   "execution_count": null,
   "id": "553e471e",
   "metadata": {},
   "outputs": [],
   "source": [
    "temperature = 12\n",
    "\n",
    "if temperature > 20:\n",
    "    print(\"It's a warm day!\")\n",
    "else:\n",
    "    print(\"It's not very warm, maybe bring a jacket.\")"
   ]
  },
  {
   "cell_type": "markdown",
   "id": "3487f35f",
   "metadata": {},
   "source": [
    "#### Checking multiple conditions with elif\n",
    "Sometimes you have more than two possibilities. You can use elif (short for \"else if\") to check for other conditions."
   ]
  },
  {
   "cell_type": "code",
   "execution_count": null,
   "id": "12a50886",
   "metadata": {},
   "outputs": [],
   "source": [
    "temperature = 18\n",
    "\n",
    "if temperature > 25:\n",
    "    print(\"It's hot outside!\")\n",
    "elif temperature > 15:\n",
    "    print(\"It feels pleasant and mild.\")\n",
    "else:\n",
    "    print(\"It's a bit chilly.\")"
   ]
  },
  {
   "cell_type": "markdown",
   "id": "39472be3",
   "metadata": {},
   "source": [
    "Python checks the condition from top to bottom and only runs the _first_ block it finds that it True"
   ]
  },
  {
   "cell_type": "markdown",
   "id": "0ad1cd23",
   "metadata": {},
   "source": [
    "## Part 2: For loops (Repeating Actions)\n",
    "For loops are one of the most powerful tools in Python. They allow you to iterate a collection of items, list a list, and perform an action for **each item**.\n",
    "\n",
    "#### The basic for loop\n",
    "Imagine we have a list of words and we want to print each one. Instead of writing a print() statement for every word, we can use a loop. The syntax is: \n",
    "for item in list, where item is a temporary variable that holds the current value from the list in each iteration."
   ]
  },
  {
   "cell_type": "code",
   "execution_count": null,
   "id": "f863dc8c",
   "metadata": {},
   "outputs": [],
   "source": [
    "words = ['text', 'analysis', 'is', 'fun']\n",
    "\n",
    "for word in words:\n",
    "    # This indented code runs once for every item in the 'words' list.\n",
    "    # In the first loop, 'word' will be 'text'.\n",
    "    # In the second loop, 'word' will be 'analysis', and so on.\n",
    "    print(word)"
   ]
  },
  {
   "cell_type": "markdown",
   "id": "a50f4642",
   "metadata": {},
   "source": [
    "#### The superpower: Combining for loops with if statements\n",
    "This is where everything comes together. You can put an if statement inside a for loop to process data. This is the fundamental technique you will use for cleaning and analysing text. \n",
    "\n",
    "Let's say we want to create a new list that only contains words longer than 3 characters."
   ]
  },
  {
   "cell_type": "code",
   "execution_count": null,
   "id": "4bda1a96",
   "metadata": {},
   "outputs": [],
   "source": [
    "words = ['text', 'analysis', 'is', 'fun']\n",
    "\n",
    "# 1. Create an empty list to store our results\n",
    "long_words = []\n",
    "\n",
    "# 2. Loop through our original list of words\n",
    "for word in words:\n",
    "    # 3. For each word, check if its length is greater than 3\n",
    "    if len(word) > 3:\n",
    "        # 4. If it is, add it to our new list\n",
    "        long_words.append(word)\n",
    "\n",
    "# 5. Print the final list of long words\n",
    "print(long_words)"
   ]
  },
  {
   "cell_type": "markdown",
   "id": "7346de19",
   "metadata": {},
   "source": [
    "The pattern of (1) creating an empty list, (2) looping over another list, and (3) appending items that meet a condition is extremely common and useful. \n",
    "\n",
    "## Part 3: While loops \n",
    "There is another type of loop called a while loop. It repeats a block of code as long as a certain condition remains true. They are less common in data anlysis, but it's good to know they exist"
   ]
  },
  {
   "cell_type": "code",
   "execution_count": null,
   "id": "f3d8cc5b",
   "metadata": {},
   "outputs": [],
   "source": [
    "count = 0\n",
    "\n",
    "while count < 3:\n",
    "    print(f\"The count is {count}\")\n",
    "    count = count + 1 # This line is crucial! It changes the condition.\n",
    "\n",
    "print(\"Loop finished!\")"
   ]
  },
  {
   "cell_type": "markdown",
   "id": "d1b31cab",
   "metadata": {},
   "source": [
    "## Exercises\n",
    "Let's practice combining these concepts \n",
    "\n",
    "#### Exericse 1: Finding Even Numbers\n",
    "1. Create a list of numbers from 1 to 15\n",
    "2. Create an empty list called even_numbers\n",
    "3. Write a for loop that goes through your list of numbers \n",
    "4. Inside the loop, use an if statement to check if a number is even (Hint: A number is even if _number % 2 == 0_).\n",
    "5. If the number is even, add it to the even_numbers list. \n",
    "6. Finally, print the even_numbers list. "
   ]
  },
  {
   "cell_type": "code",
   "execution_count": null,
   "id": "28aa2d39",
   "metadata": {},
   "outputs": [],
   "source": [
    "# Your code for exercise 1 here"
   ]
  },
  {
   "cell_type": "markdown",
   "id": "234d296c",
   "metadata": {},
   "source": [
    "#### Exercise 2: Words starting with t\n",
    "1. Use the list of words provided below\n",
    "2. Create an empty list called t_words\n",
    "3. Write a for loop to iterate through the word list. \n",
    "4. Inside the loop, use an if statement too check if a word starts with the letter 't'. (Hint: you can get the first letter of a steing with word[0])\n",
    "5. If it does, add the worod to the t_words list.\n",
    "6. Print the t_words list"
   ]
  },
  {
   "cell_type": "code",
   "execution_count": null,
   "id": "3fea9ef7",
   "metadata": {},
   "outputs": [],
   "source": [
    "# Your code for Exercise 2 here\n",
    "words_for_exercise = ['The', 'quick', 'brown', 'fox', 'jumps', 'over', 'the', 'lazy', 'dog']"
   ]
  },
  {
   "cell_type": "markdown",
   "id": "814ea1d7",
   "metadata": {},
   "source": [
    "## Conclusion\n",
    "You should now have a great understanding of the fundamental building blocks for making programs smart\n",
    "- if, elif, else allow your code to make decisions\n",
    "- for loops allows your code to perform actions on entire collections of data\n",
    "\n",
    "Almost every task is text analysis, from cleaning data to counting wordso to finding patterns, will rely on using loops and conditionals. "
   ]
  }
 ],
 "metadata": {
  "kernelspec": {
   "display_name": "base",
   "language": "python",
   "name": "python3"
  },
  "language_info": {
   "codemirror_mode": {
    "name": "ipython",
    "version": 3
   },
   "file_extension": ".py",
   "mimetype": "text/x-python",
   "name": "python",
   "nbconvert_exporter": "python",
   "pygments_lexer": "ipython3",
   "version": "3.13.5"
  }
 },
 "nbformat": 4,
 "nbformat_minor": 5
}
