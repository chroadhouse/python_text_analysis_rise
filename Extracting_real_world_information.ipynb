{
 "cells": [
  {
   "cell_type": "markdown",
   "id": "ed4ba750",
   "metadata": {},
   "source": [
    "# Extracting Real-World Information: Named Entity Recognition\n",
    "So far, we have analysed text by looking at individual words or overall themes. __Named Entity Regcognition__ is different. It's a task focused on extracting specific, named 'entities' from text. Think of it like a textual detective looking for clues:\n",
    "- PERSON: Peoples names\n",
    "- ORG: Organisation, companies, institutions\n",
    "- GPE: Geopolitical Entities (Countries, Cities, States)\n",
    "- DATE: Dates and time periods\n",
    "\n",
    "To do this, we will introduce a new library: spaCY. While NTLK is great toolkit for learning and research, spaCY is designed for high-performance, production-level NLP. \n",
    "\n",
    "## Setup: Installing and Loading spaCY"
   ]
  },
  {
   "cell_type": "code",
   "execution_count": null,
   "id": "9cb03dff",
   "metadata": {},
   "outputs": [],
   "source": [
    "# Install the spaCy library\n",
    "!pip install spacy\n",
    "\n",
    "# Download the small English language model\n",
    "!python -m spacy download en_core_web_sm\n",
    "\n",
    "# Import spaCy and our usual pandas\n",
    "import spacy\n",
    "import pandas as pd\n",
    "\n",
    "# Load the spaCy model. The 'nlp' object is our gateway to all of spaCy's power.\n",
    "nlp = spacy.load(\"en_core_web_sm\")\n",
    "\n",
    "# Load our BBC dataset\n",
    "url = 'https://storage.googleapis.com/dataset-uploader/bbc/bbc-text.csv'\n",
    "bbc_df = pd.read_csv(url)\n",
    "\n",
    "print(\"Setup complete. spaCy is ready.\")"
   ]
  },
  {
   "cell_type": "markdown",
   "id": "3f4dc83d",
   "metadata": {},
   "source": [
    "## Processing Text and Accessing Entities\n",
    "Using spaCY is simple. You pass a string of text to the nlp object, and it returns a processed Doc object. The Doc object contains a huge amount of information, including the named entities. "
   ]
  },
  {
   "cell_type": "code",
   "execution_count": null,
   "id": "d9ef1587",
   "metadata": {},
   "outputs": [],
   "source": [
    "# Get the text of the first article in the 'politics' category\n",
    "politics_article = bbc_df[bbc_df['category'] == 'politics']['text'].iloc[0]\n",
    "\n",
    "# Process the text with the nlp object\n",
    "doc = nlp(politics_article)\n",
    "\n",
    "# The entities are stored in the 'ents' attribute of the doc\n",
    "# Let's loop through them and print the entity text and its label\n",
    "print(\"Entities found in the article:\")\n",
    "for ent in doc.ents:\n",
    "    print(f\"- {ent.text} ({ent.label_})\")"
   ]
  },
  {
   "cell_type": "markdown",
   "id": "254df038",
   "metadata": {},
   "source": [
    "## Understanding and visual entities\n",
    "What do labels like \"GPE\" or \"NORP\" mean? We can use spacy.explain() to find out. "
   ]
  },
  {
   "cell_type": "code",
   "execution_count": null,
   "id": "a3703238",
   "metadata": {},
   "outputs": [],
   "source": [
    "print(f\"GPE: {spacy.explain('GPE')}\")\n",
    "print(f\"ORG: {spacy.explain('ORG')}\")\n",
    "print(f\"PERSON: {spacy.explain('PERSON')}\")\n",
    "print(f\"DATE: {spacy.explain('DATE')}\")"
   ]
  },
  {
   "cell_type": "markdown",
   "id": "66757300",
   "metadata": {},
   "source": [
    "spaCy's best feature is its built-in visualiser, displacy. It can generate a beautiful, colour-coded visualisation of the entities right in our notebook"
   ]
  },
  {
   "cell_type": "code",
   "execution_count": null,
   "id": "eb4ac0a2",
   "metadata": {},
   "outputs": [],
   "source": [
    "from spacy import displacy\n",
    "\n",
    "# Use displacy to render the entities in our processed doc\n",
    "# jupyter=True tells it to render directly in the notebook\n",
    "displacy.render(doc, style=\"ent\", jupyter=True)"
   ]
  },
  {
   "cell_type": "markdown",
   "id": "3ab17506",
   "metadata": {},
   "source": [
    "## Exercise\n",
    "The task is to find all organisations in the first article from 'tech'\n",
    "1. Select the text of the first article when the category is 'tech'\n",
    "2. Process it with the nlp object create a doc\n",
    "3. Create an empty list called tech_organisation \n",
    "4. Loop thorugh the enntities in the doc (doc.ents). If any entities labels is 'ORG', append its text (ent.text) to your list\n",
    "5. Print the final list of organisation names"
   ]
  },
  {
   "cell_type": "code",
   "execution_count": null,
   "id": "384d5dd1",
   "metadata": {},
   "outputs": [],
   "source": [
    "# Your  code for the exercise here"
   ]
  }
 ],
 "metadata": {
  "kernelspec": {
   "display_name": "base",
   "language": "python",
   "name": "python3"
  },
  "language_info": {
   "name": "python",
   "version": "3.13.5"
  }
 },
 "nbformat": 4,
 "nbformat_minor": 5
}
