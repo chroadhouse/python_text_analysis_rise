{
 "cells": [
  {
   "cell_type": "markdown",
   "id": "92687df1",
   "metadata": {},
   "source": [
    "# Variables and Datatypes\n",
    "In this notebook we are going to start with the absolute basics of programming. The idea here is to just get a grips with what a variable is and start with some understanding of datatypes"
   ]
  },
  {
   "cell_type": "markdown",
   "id": "fd2674ef",
   "metadata": {},
   "source": [
    "## Variables\n",
    "Variables are the building blocks of programming, we use them to assign values and change the value as we perform differnt calculations. \n",
    "\n",
    "You can think of a variable as a storage box. You assign a label to the box but then the contents of the box is able to change while keeping the information the same. \n",
    "\n",
    "In programming we have three key parts to a variable\n",
    "\n",
    "x = 10\n",
    "\n",
    "x - Our varibale name\n",
    "= - The sign we use to assign data to a variable \n",
    "10 - The value stored in the variable "
   ]
  },
  {
   "cell_type": "code",
   "execution_count": null,
   "id": "2b162a4e",
   "metadata": {},
   "outputs": [],
   "source": [
    "# Variables are assigned \n",
    "x = 10\n",
    "\n",
    "# Variables can then also be re-assigned to \n",
    "x = 20"
   ]
  },
  {
   "cell_type": "markdown",
   "id": "39a69db8",
   "metadata": {},
   "source": [
    "# Printing\n",
    "One way we can check whether our variables are what we assigned them to is by using the print() statement. By placing our variable inside the statement it allows us to print it and see what the varibale currently is. "
   ]
  },
  {
   "cell_type": "code",
   "execution_count": null,
   "id": "c5fa38f1",
   "metadata": {},
   "outputs": [],
   "source": [
    "# Set our variable to our name \n",
    "\n",
    "name = \"Charlie\"\n",
    "\n",
    "print(name)\n",
    "\n",
    "# We can combine the variable with other data in the print statement to then\n",
    "\n",
    "print(\"Hello my name is \"+ name)"
   ]
  },
  {
   "cell_type": "code",
   "execution_count": null,
   "id": "3ef352f7",
   "metadata": {},
   "outputs": [],
   "source": [
    "# In this block we can change the name variable to another value and see what happens \n",
    "\n",
    "# Write your name in the speech marks below\n",
    "name = \"\"\n",
    "\n",
    "print(\"Hello there \"+ name)"
   ]
  },
  {
   "cell_type": "markdown",
   "id": "683eb437",
   "metadata": {},
   "source": [
    "# Datatypes\n",
    "Now we understand the idea and principles behind variables working. We can move onto working with and introducing the different data types. Python is a implicit type programming langauge, this means that we don't have to declare the datatype for the variable. \n",
    "\n",
    "In Python the main datatypes you are going to come across are: \n",
    "- ***String*** - This is a list of characters that are string together and is how we represent text in Python\n",
    "- ***Integer*** - Is how we represent whole numbers in Python\n",
    "- ***Boolean*** - We represent either a True or False value.\n",
    "- ***Float/Double*** - This is used to represent numbers that have a decimal point with them"
   ]
  },
  {
   "cell_type": "code",
   "execution_count": null,
   "id": "2cade840",
   "metadata": {},
   "outputs": [],
   "source": [
    "# Here we look to store appropriate data within each of the different data types:\n",
    "# For example we are storing information about a student\n",
    "\n",
    "name = \"Charlie\"\n",
    "age = 24\n",
    "undergraduate = False\n",
    "average_grade = 0.75"
   ]
  },
  {
   "cell_type": "code",
   "execution_count": null,
   "id": "049427f6",
   "metadata": {},
   "outputs": [],
   "source": [
    "# We can then print these datatypes the same way we were printing \n",
    "\n",
    "print('Hi my name is '+name+ \" I am \"+age+ \" years old\")\n"
   ]
  },
  {
   "cell_type": "markdown",
   "id": "c9911aee",
   "metadata": {},
   "source": [
    "# Exercise 1:\n",
    "Create and print variables for your own student profile. Include:\n",
    "- Name\n",
    "- Age\n",
    "- Average Grade \n",
    "- Undergraduate or Postgraduate\n",
    "\n",
    "_When doing thiese think about how you could incporate each datatype_"
   ]
  },
  {
   "cell_type": "code",
   "execution_count": null,
   "id": "0155243a",
   "metadata": {},
   "outputs": [],
   "source": [
    "# Write and run your code in this seciton \n"
   ]
  }
 ],
 "metadata": {
  "language_info": {
   "name": "python"
  }
 },
 "nbformat": 4,
 "nbformat_minor": 5
}
