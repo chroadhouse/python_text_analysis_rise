{
 "cells": [
  {
   "cell_type": "markdown",
   "id": "7e15b1be",
   "metadata": {},
   "source": [
    "# Introduction to Sentiment Analysis\n",
    "\n",
    "So far we've looked at very high-level concepts, we're going to start digging deeper into some of the most common natural language proceessing tasks and tools: Sentiment Analysis. \n",
    "\n",
    "### What is Sentiment Analysis?\n",
    "It's the process of automatically determining the emotional tone of a piece of text. Is the author expressing a positive, negative or neutral opinion? This is incredible useful for businesses who want to understand customer feedback, trackc brand perception, and more.\n",
    "\n",
    "In this notebook you will learn how to:\n",
    "- Use a powerful VADER tool from the NLTK library to get sentiment scores\n",
    "- Apaply VADER to an entire dataframe to analyse thousands of reviews at once\n",
    "- Compare results "
   ]
  },
  {
   "cell_type": "markdown",
   "id": "39ee03cb",
   "metadata": {},
   "source": [
    "### Setup: Imports and Data loading\n",
    "First, we'll set up our environment. We need to import pandas, and we'll also import a special tool for sentiment analysis called SentimentIntensityAnalyzer, from the NLTK library. It's often referred to by its project name VADER."
   ]
  },
  {
   "cell_type": "code",
   "execution_count": 2,
   "id": "e068e265",
   "metadata": {},
   "outputs": [
    {
     "name": "stderr",
     "output_type": "stream",
     "text": [
      "[nltk_data] Downloading package vader_lexicon to\n",
      "[nltk_data]     C:\\Users\\Work\\AppData\\Roaming\\nltk_data...\n",
      "[nltk_data]   Package vader_lexicon is already up-to-date!\n"
     ]
    },
    {
     "name": "stdout",
     "output_type": "stream",
     "text": [
      "Setup complete. VADER is ready and the BBC dataset is loaded.\n"
     ]
    },
    {
     "data": {
      "text/html": [
       "<div>\n",
       "<style scoped>\n",
       "    .dataframe tbody tr th:only-of-type {\n",
       "        vertical-align: middle;\n",
       "    }\n",
       "\n",
       "    .dataframe tbody tr th {\n",
       "        vertical-align: top;\n",
       "    }\n",
       "\n",
       "    .dataframe thead th {\n",
       "        text-align: right;\n",
       "    }\n",
       "</style>\n",
       "<table border=\"1\" class=\"dataframe\">\n",
       "  <thead>\n",
       "    <tr style=\"text-align: right;\">\n",
       "      <th></th>\n",
       "      <th>category</th>\n",
       "      <th>text</th>\n",
       "    </tr>\n",
       "  </thead>\n",
       "  <tbody>\n",
       "    <tr>\n",
       "      <th>0</th>\n",
       "      <td>tech</td>\n",
       "      <td>tv future in the hands of viewers with home th...</td>\n",
       "    </tr>\n",
       "    <tr>\n",
       "      <th>1</th>\n",
       "      <td>business</td>\n",
       "      <td>worldcom boss  left books alone  former worldc...</td>\n",
       "    </tr>\n",
       "    <tr>\n",
       "      <th>2</th>\n",
       "      <td>sport</td>\n",
       "      <td>tigers wary of farrell  gamble  leicester say ...</td>\n",
       "    </tr>\n",
       "    <tr>\n",
       "      <th>3</th>\n",
       "      <td>sport</td>\n",
       "      <td>yeading face newcastle in fa cup premiership s...</td>\n",
       "    </tr>\n",
       "    <tr>\n",
       "      <th>4</th>\n",
       "      <td>entertainment</td>\n",
       "      <td>ocean s twelve raids box office ocean s twelve...</td>\n",
       "    </tr>\n",
       "  </tbody>\n",
       "</table>\n",
       "</div>"
      ],
      "text/plain": [
       "        category                                               text\n",
       "0           tech  tv future in the hands of viewers with home th...\n",
       "1       business  worldcom boss  left books alone  former worldc...\n",
       "2          sport  tigers wary of farrell  gamble  leicester say ...\n",
       "3          sport  yeading face newcastle in fa cup premiership s...\n",
       "4  entertainment  ocean s twelve raids box office ocean s twelve..."
      ]
     },
     "execution_count": 2,
     "metadata": {},
     "output_type": "execute_result"
    }
   ],
   "source": [
    "import pandas as pd\n",
    "import nltk\n",
    "from nltk.sentiment.vader import SentimentIntensityAnalyzer\n",
    "\n",
    "# Download the VADER lexicon (only needs to be done once)\n",
    "nltk.download('vader_lexicon')\n",
    "\n",
    "# Load the BBC News dataset from our stable URL\n",
    "url = 'https://storage.googleapis.com/dataset-uploader/bbc/bbc-text.csv'\n",
    "bbc_df = pd.read_csv(url)\n",
    "\n",
    "print(\"Setup complete. VADER is ready and the BBC dataset is loaded.\")\n",
    "bbc_df.head()"
   ]
  },
  {
   "cell_type": "markdown",
   "id": "c3941628",
   "metadata": {},
   "source": [
    "### What is VADER?\n",
    "VADER (Valence Aware Dictionary and sEntiment Reasoner) is a pre-trained sentiment analysis tool that is excellent for text from social media and reviews. It uses a dictionary of words and grammatical rules to figure out the sentiment score. \n",
    "\n",
    "The best part for us is that we don't have to spend any time training it. We can use it straight away. \n",
    "\n",
    "Let's initialise it and test it on a few sentences"
   ]
  },
  {
   "cell_type": "code",
   "execution_count": 3,
   "id": "25a4ed8f",
   "metadata": {},
   "outputs": [
    {
     "name": "stdout",
     "output_type": "stream",
     "text": [
      "{'neg': 0.0, 'neu': 0.609, 'pos': 0.391, 'compound': 0.6696}\n",
      "{'neg': 0.279, 'neu': 0.721, 'pos': 0.0, 'compound': -0.4767}\n",
      "{'neg': 0.408, 'neu': 0.459, 'pos': 0.133, 'compound': -0.6112}\n"
     ]
    }
   ],
   "source": [
    "# Initialize the VADER sentiment intensity analyzer\n",
    "sid = SentimentIntensityAnalyzer()\n",
    "\n",
    "# Let's test it on a few example sentences\n",
    "print(sid.polarity_scores('This was the best meal I have ever had!'))\n",
    "print(sid.polarity_scores('The service was slow and the food was terrible.'))\n",
    "print(sid.polarity_scores('The movie was okay, but not great.'))"
   ]
  },
  {
   "cell_type": "markdown",
   "id": "7be58676",
   "metadata": {},
   "source": [
    "### Analysing the entire Dataset\n",
    "Now for the powerful part. We can apply VADER to every single article in our 'text' column to get a sentiment score for each one. We'll use .apply() and a lambda function to extract just the compound score. "
   ]
  },
  {
   "cell_type": "code",
   "execution_count": 4,
   "id": "77af66b2",
   "metadata": {},
   "outputs": [
    {
     "data": {
      "text/html": [
       "<div>\n",
       "<style scoped>\n",
       "    .dataframe tbody tr th:only-of-type {\n",
       "        vertical-align: middle;\n",
       "    }\n",
       "\n",
       "    .dataframe tbody tr th {\n",
       "        vertical-align: top;\n",
       "    }\n",
       "\n",
       "    .dataframe thead th {\n",
       "        text-align: right;\n",
       "    }\n",
       "</style>\n",
       "<table border=\"1\" class=\"dataframe\">\n",
       "  <thead>\n",
       "    <tr style=\"text-align: right;\">\n",
       "      <th></th>\n",
       "      <th>text</th>\n",
       "      <th>sentiment_score</th>\n",
       "    </tr>\n",
       "  </thead>\n",
       "  <tbody>\n",
       "    <tr>\n",
       "      <th>0</th>\n",
       "      <td>tv future in the hands of viewers with home th...</td>\n",
       "      <td>0.9934</td>\n",
       "    </tr>\n",
       "    <tr>\n",
       "      <th>1</th>\n",
       "      <td>worldcom boss  left books alone  former worldc...</td>\n",
       "      <td>-0.9728</td>\n",
       "    </tr>\n",
       "    <tr>\n",
       "      <th>2</th>\n",
       "      <td>tigers wary of farrell  gamble  leicester say ...</td>\n",
       "      <td>0.9403</td>\n",
       "    </tr>\n",
       "    <tr>\n",
       "      <th>3</th>\n",
       "      <td>yeading face newcastle in fa cup premiership s...</td>\n",
       "      <td>0.9607</td>\n",
       "    </tr>\n",
       "    <tr>\n",
       "      <th>4</th>\n",
       "      <td>ocean s twelve raids box office ocean s twelve...</td>\n",
       "      <td>0.9218</td>\n",
       "    </tr>\n",
       "  </tbody>\n",
       "</table>\n",
       "</div>"
      ],
      "text/plain": [
       "                                                text  sentiment_score\n",
       "0  tv future in the hands of viewers with home th...           0.9934\n",
       "1  worldcom boss  left books alone  former worldc...          -0.9728\n",
       "2  tigers wary of farrell  gamble  leicester say ...           0.9403\n",
       "3  yeading face newcastle in fa cup premiership s...           0.9607\n",
       "4  ocean s twelve raids box office ocean s twelve...           0.9218"
      ]
     },
     "execution_count": 4,
     "metadata": {},
     "output_type": "execute_result"
    }
   ],
   "source": [
    "# Initialize the VADER sentiment intensity analyzer\n",
    "sid = SentimentIntensityAnalyzer()\n",
    "\n",
    "# Create a new column 'sentiment_score' by applying VADER to the 'text' column\n",
    "# We use a lambda function to get just the 'compound' score from the output dictionary\n",
    "bbc_df['sentiment_score'] = bbc_df['text'].apply(lambda text: sid.polarity_scores(text)['compound'])\n",
    "\n",
    "# Let's look at our DataFrame with the new sentiment score\n",
    "bbc_df[['text', 'sentiment_score']].head()"
   ]
  },
  {
   "cell_type": "markdown",
   "id": "527c43fe",
   "metadata": {},
   "source": [
    "### Analysing the Results \n",
    "Now that we have a sentiment score for each article, let's analyse the distribution of these scores. \n",
    "\n",
    "#### Descriptive Statistics\n",
    "Let's start by getting some simple statistics on our new column"
   ]
  },
  {
   "cell_type": "code",
   "execution_count": 5,
   "id": "79e8d24e",
   "metadata": {},
   "outputs": [
    {
     "data": {
      "text/plain": [
       "count    2225.000000\n",
       "mean        0.401882\n",
       "std         0.797951\n",
       "min        -0.999900\n",
       "25%        -0.458800\n",
       "50%         0.925300\n",
       "75%         0.984700\n",
       "max         1.000000\n",
       "Name: sentiment_score, dtype: float64"
      ]
     },
     "execution_count": 5,
     "metadata": {},
     "output_type": "execute_result"
    }
   ],
   "source": [
    "# Use the .describe() method to see the summary statistics of the sentiment scores\n",
    "bbc_df['sentiment_score'].describe()"
   ]
  },
  {
   "cell_type": "markdown",
   "id": "74cadeba",
   "metadata": {},
   "source": [
    "Notice that the mean score is very close to 0. The standard deviation is also quite small, suggesting most scores are clustered together\n",
    "\n",
    "#### Visualising the distribution\n",
    "A histogram is the best way to see the distribution of scores. We can use the .plot() methods that comes with Pandas"
   ]
  },
  {
   "cell_type": "code",
   "execution_count": 6,
   "id": "8d8133a4",
   "metadata": {},
   "outputs": [
    {
     "data": {
      "text/plain": [
       "<Axes: title={'center': 'Distribution of Sentiment Scores for BBC News Articles'}, ylabel='Frequency'>"
      ]
     },
     "execution_count": 6,
     "metadata": {},
     "output_type": "execute_result"
    },
    {
     "data": {
      "image/png": "[encoded data removed]",
      "text/plain": [
       "<Figure size 640x480 with 1 Axes>"
      ]
     },
     "metadata": {},
     "output_type": "display_data"
    }
   ],
   "source": [
    "# Plot a histogram of the sentiment scores\n",
    "# A 'kind' of 'hist' creates a histogram. 'bins=30' gives us enough bars to see the detail.\n",
    "bbc_df['sentiment_score'].plot(\n",
    "    kind='hist',\n",
    "    bins=30,\n",
    "    title='Distribution of Sentiment Scores for BBC News Articles'\n",
    ")"
   ]
  },
  {
   "cell_type": "markdown",
   "id": "996a95c2",
   "metadata": {},
   "source": [
    "### Looking at the 'most' positive and negative articles \n",
    "We can look at the most positive and most negative articles found in VADER"
   ]
  },
  {
   "cell_type": "code",
   "execution_count": 7,
   "id": "86c7e630",
   "metadata": {},
   "outputs": [
    {
     "name": "stdout",
     "output_type": "stream",
     "text": [
      "--- 5 ARTICLES WITH HIGHEST POSITIVE SCORE ---\n"
     ]
    },
    {
     "data": {
      "text/html": [
       "<div>\n",
       "<style scoped>\n",
       "    .dataframe tbody tr th:only-of-type {\n",
       "        vertical-align: middle;\n",
       "    }\n",
       "\n",
       "    .dataframe tbody tr th {\n",
       "        vertical-align: top;\n",
       "    }\n",
       "\n",
       "    .dataframe thead th {\n",
       "        text-align: right;\n",
       "    }\n",
       "</style>\n",
       "<table border=\"1\" class=\"dataframe\">\n",
       "  <thead>\n",
       "    <tr style=\"text-align: right;\">\n",
       "      <th></th>\n",
       "      <th>category</th>\n",
       "      <th>text</th>\n",
       "      <th>sentiment_score</th>\n",
       "    </tr>\n",
       "  </thead>\n",
       "  <tbody>\n",
       "    <tr>\n",
       "      <th>1615</th>\n",
       "      <td>entertainment</td>\n",
       "      <td>scissor sisters triumph at brits us band sciss...</td>\n",
       "      <td>1.0000</td>\n",
       "    </tr>\n",
       "    <tr>\n",
       "      <th>1604</th>\n",
       "      <td>politics</td>\n",
       "      <td>kilroy launches  veritas  party ex-bbc chat sh...</td>\n",
       "      <td>0.9999</td>\n",
       "    </tr>\n",
       "    <tr>\n",
       "      <th>1874</th>\n",
       "      <td>entertainment</td>\n",
       "      <td>aviator and vera take bafta glory hollywood bl...</td>\n",
       "      <td>0.9999</td>\n",
       "    </tr>\n",
       "    <tr>\n",
       "      <th>1263</th>\n",
       "      <td>entertainment</td>\n",
       "      <td>the producers scoops stage awards the producer...</td>\n",
       "      <td>0.9999</td>\n",
       "    </tr>\n",
       "    <tr>\n",
       "      <th>865</th>\n",
       "      <td>entertainment</td>\n",
       "      <td>brits debate over  urban  music joss stone  a ...</td>\n",
       "      <td>0.9998</td>\n",
       "    </tr>\n",
       "  </tbody>\n",
       "</table>\n",
       "</div>"
      ],
      "text/plain": [
       "           category                                               text  \\\n",
       "1615  entertainment  scissor sisters triumph at brits us band sciss...   \n",
       "1604       politics  kilroy launches  veritas  party ex-bbc chat sh...   \n",
       "1874  entertainment  aviator and vera take bafta glory hollywood bl...   \n",
       "1263  entertainment  the producers scoops stage awards the producer...   \n",
       "865   entertainment  brits debate over  urban  music joss stone  a ...   \n",
       "\n",
       "      sentiment_score  \n",
       "1615           1.0000  \n",
       "1604           0.9999  \n",
       "1874           0.9999  \n",
       "1263           0.9999  \n",
       "865            0.9998  "
      ]
     },
     "metadata": {},
     "output_type": "display_data"
    },
    {
     "name": "stdout",
     "output_type": "stream",
     "text": [
      "\n",
      "--- 5 ARTICLES WITH HIGHEST NEGATIVE SCORE ---\n"
     ]
    },
    {
     "data": {
      "text/html": [
       "<div>\n",
       "<style scoped>\n",
       "    .dataframe tbody tr th:only-of-type {\n",
       "        vertical-align: middle;\n",
       "    }\n",
       "\n",
       "    .dataframe tbody tr th {\n",
       "        vertical-align: top;\n",
       "    }\n",
       "\n",
       "    .dataframe thead th {\n",
       "        text-align: right;\n",
       "    }\n",
       "</style>\n",
       "<table border=\"1\" class=\"dataframe\">\n",
       "  <thead>\n",
       "    <tr style=\"text-align: right;\">\n",
       "      <th></th>\n",
       "      <th>category</th>\n",
       "      <th>text</th>\n",
       "      <th>sentiment_score</th>\n",
       "    </tr>\n",
       "  </thead>\n",
       "  <tbody>\n",
       "    <tr>\n",
       "      <th>408</th>\n",
       "      <td>politics</td>\n",
       "      <td>terror powers expose  tyranny  the lord chance...</td>\n",
       "      <td>-0.9999</td>\n",
       "    </tr>\n",
       "    <tr>\n",
       "      <th>1848</th>\n",
       "      <td>politics</td>\n",
       "      <td>mps  murder sentence concern murder sentences ...</td>\n",
       "      <td>-0.9997</td>\n",
       "    </tr>\n",
       "    <tr>\n",
       "      <th>1189</th>\n",
       "      <td>tech</td>\n",
       "      <td>call for action on internet scam phone compani...</td>\n",
       "      <td>-0.9991</td>\n",
       "    </tr>\n",
       "    <tr>\n",
       "      <th>140</th>\n",
       "      <td>business</td>\n",
       "      <td>disaster claims  less than $10bn  insurers hav...</td>\n",
       "      <td>-0.9987</td>\n",
       "    </tr>\n",
       "    <tr>\n",
       "      <th>1115</th>\n",
       "      <td>politics</td>\n",
       "      <td>blunkett sorry over murder plan david blunkett...</td>\n",
       "      <td>-0.9986</td>\n",
       "    </tr>\n",
       "  </tbody>\n",
       "</table>\n",
       "</div>"
      ],
      "text/plain": [
       "      category                                               text  \\\n",
       "408   politics  terror powers expose  tyranny  the lord chance...   \n",
       "1848  politics  mps  murder sentence concern murder sentences ...   \n",
       "1189      tech  call for action on internet scam phone compani...   \n",
       "140   business  disaster claims  less than $10bn  insurers hav...   \n",
       "1115  politics  blunkett sorry over murder plan david blunkett...   \n",
       "\n",
       "      sentiment_score  \n",
       "408           -0.9999  \n",
       "1848          -0.9997  \n",
       "1189          -0.9991  \n",
       "140           -0.9987  \n",
       "1115          -0.9986  "
      ]
     },
     "metadata": {},
     "output_type": "display_data"
    }
   ],
   "source": [
    "# Display the 5 most positive articles\n",
    "print(\"--- 5 ARTICLES WITH HIGHEST POSITIVE SCORE ---\")\n",
    "display(bbc_df.sort_values(by='sentiment_score', ascending=False).head())\n",
    "\n",
    "# Display the 5 most negative articles\n",
    "print(\"\\n--- 5 ARTICLES WITH HIGHEST NEGATIVE SCORE ---\")\n",
    "display(bbc_df.sort_values(by='sentiment_score', ascending=True).head())"
   ]
  },
  {
   "cell_type": "markdown",
   "id": "45d28637",
   "metadata": {},
   "source": [
    "When you read the text of these articles you'll ntice that they aren't really opinions. The positive articles are likley to use words like 'best', 'support' and 'win', while negative ones use words like 'confluct', 'loss', 'crisis' and 'attack'. VADER is correctly identifying the emotional tone of the words, but the articles themselves are still factual reports"
   ]
  },
  {
   "cell_type": "markdown",
   "id": "b77a4952",
   "metadata": {},
   "source": [
    "## Exercise\n",
    "Let's categorise each article and count them up \n",
    "1. Create the label_sentiment function from the previous notebook that takes a score and returns 'Positive', 'Negative', or 'Neutral' (using the +/- 0.05 threshold)\n",
    "2. Apply this function to the 'sentiment_score' column to create a new 'sentiment_label' column\n",
    "3. Use .value_counts() on the new 'sentiment_label' column. What percentage of articles fall into each category ? "
   ]
  },
  {
   "cell_type": "code",
   "execution_count": null,
   "id": "8d5e2840",
   "metadata": {},
   "outputs": [],
   "source": [
    "# Your code for the Exercise here"
   ]
  },
  {
   "cell_type": "markdown",
   "id": "f8a070bd",
   "metadata": {},
   "source": [
    "## Conclusion\n",
    "You now know how to apply sentiment analysis to a dataframe and, more importantly, you've seen a critical lesson in action: the result of your analysis will depend entirely on the nature of your data.\n",
    "\n",
    "For a project where you genuinely want to measure public opinion, you would return to a dataset of reviews, comments or social media posts. For this news dataset, a more appropriate next step would be something like __Topic Modelling__, to find out what the majoir themse of the articles are."
   ]
  }
 ],
 "metadata": {
  "kernelspec": {
   "display_name": "base",
   "language": "python",
   "name": "python3"
  },
  "language_info": {
   "codemirror_mode": {
    "name": "ipython",
    "version": 3
   },
   "file_extension": ".py",
   "mimetype": "text/x-python",
   "name": "python",
   "nbconvert_exporter": "python",
   "pygments_lexer": "ipython3",
   "version": "3.13.5"
  }
 },
 "nbformat": 4,
 "nbformat_minor": 5
}
