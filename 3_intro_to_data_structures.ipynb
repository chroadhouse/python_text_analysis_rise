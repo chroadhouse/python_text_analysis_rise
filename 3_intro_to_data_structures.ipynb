{
 "cells": [
  {
   "cell_type": "markdown",
   "id": "616e1d1c",
   "metadata": {},
   "source": [
    "# Intro to Data Structures\n",
    "Welcome to the next step in your Python journey! So far, we've learned how to store single pieces of information in variables (like a number or a string). But what happens when we need to store many pieces of information together?\n",
    "\n",
    "In this notebook, we'll explore Python's two most important \"container\" data types:\n",
    "\n",
    "- Lists: For storing ordered collections of items.\n",
    "\n",
    "- Dictionaries: For storing connected pieces of information in key: value pairs.\n",
    "\n",
    "Let's get started!"
   ]
  },
  {
   "cell_type": "markdown",
   "id": "efe7142f",
   "metadata": {},
   "source": [
    "## Lists\n",
    "Imagine you're going to the supermarket. You have a shopping list. The order of the items might matter, and you can add or cross things off. A Python list is exactly like that: an **ordered** collection of items.\n",
    "\n",
    "**Creating a list**\n",
    "You create a list by putting items inside square brackets [], seperated by commas."
   ]
  },
  {
   "cell_type": "code",
   "execution_count": 8,
   "id": "0e39ff3f",
   "metadata": {},
   "outputs": [
    {
     "name": "stdout",
     "output_type": "stream",
     "text": [
      "['apples', 'bread', 'milk', 'eggs']\n",
      "[18, 21, 25, 22, 19]\n"
     ]
    }
   ],
   "source": [
    "# A list of strings\n",
    "shopping_list = ['apples', 'bread', 'milk', 'eggs']\n",
    "\n",
    "# A list of numbers\n",
    "temperatures = [18, 21, 25, 22, 19]\n",
    "\n",
    "# Lists can even mix data types (though it's common to keep them the same)\n",
    "mixed_list = ['hello', 100, True]\n",
    "\n",
    "print(shopping_list)\n",
    "print(temperatures)"
   ]
  },
  {
   "cell_type": "markdown",
   "id": "220af1e3",
   "metadata": {},
   "source": [
    "#### Accessing Items (Indexing)\n",
    "How do you get just one item from you list? You use its index number. \n",
    "\n",
    "**Crucial**: In Python, counting always start at zero. The first item is at index 0, the second at index 1, and so on. "
   ]
  },
  {
   "cell_type": "code",
   "execution_count": 9,
   "id": "3b27858c",
   "metadata": {},
   "outputs": [
    {
     "name": "stdout",
     "output_type": "stream",
     "text": [
      "The first item is: apples\n",
      "The third item is: milk\n"
     ]
    }
   ],
   "source": [
    "shopping_list = ['apples', 'bread', 'milk', 'eggs']\n",
    "\n",
    "# Get the first item (at index 0)\n",
    "first_item = shopping_list[0]\n",
    "print(f\"The first item is: {first_item}\")\n",
    "\n",
    "# Get the third item (at index 2)\n",
    "third_item = shopping_list[2]\n",
    "print(f\"The third item is: {third_item}\")"
   ]
  },
  {
   "cell_type": "markdown",
   "id": "8e9584cd",
   "metadata": {},
   "source": [
    "You can also count from the end of the list using negative numbers. [-1] is the last item, [-2] is the second-to-last,. This is very useful."
   ]
  },
  {
   "cell_type": "code",
   "execution_count": 10,
   "id": "72fdc276",
   "metadata": {},
   "outputs": [
    {
     "name": "stdout",
     "output_type": "stream",
     "text": [
      "The last item is: eggs\n"
     ]
    }
   ],
   "source": [
    "# Get the last item\n",
    "last_item = shopping_list[-1]\n",
    "print(f\"The last item is: {last_item}\")"
   ]
  },
  {
   "cell_type": "markdown",
   "id": "bd05f897",
   "metadata": {},
   "source": [
    "#### Modifiying Lists\n",
    "Lists are changeable. You can easily add, remove or change items. \n",
    "1. Changing an item: You can do this by accessing it via its index and assigning a new value\n",
    "2. Adding an item: To add a new itemm to the end of the list, you can use the .append method\n",
    "3. Removing an item: To remove an item you can use .pop(). If you can use it without a number, it removes the __last__ item. You can can git it an index number, it removes the item at the position. "
   ]
  },
  {
   "cell_type": "code",
   "execution_count": 11,
   "id": "7024cd64",
   "metadata": {},
   "outputs": [
    {
     "name": "stdout",
     "output_type": "stream",
     "text": [
      "Original list: ['apples', 'bread', 'milk', 'eggs']\n",
      "Updated list: ['apples', 'brown bread', 'milk', 'eggs']\n"
     ]
    }
   ],
   "source": [
    "# Changing an item\n",
    "shopping_list = ['apples', 'bread', 'milk', 'eggs']\n",
    "print(f\"Original list: {shopping_list}\")\n",
    "\n",
    "# I want brown bread, not just any bread\n",
    "shopping_list[1] = 'brown bread'\n",
    "print(f\"Updated list: {shopping_list}\")"
   ]
  },
  {
   "cell_type": "code",
   "execution_count": 12,
   "id": "2065b430",
   "metadata": {},
   "outputs": [
    {
     "name": "stdout",
     "output_type": "stream",
     "text": [
      "List before append: ['apples', 'brown bread', 'milk', 'eggs']\n",
      "List after append: ['apples', 'brown bread', 'milk', 'eggs', 'cheese']\n"
     ]
    }
   ],
   "source": [
    "# Adding an item\n",
    "print(f\"List before append: {shopping_list}\")\n",
    "\n",
    "# I forgot I also need cheese!\n",
    "shopping_list.append('cheese')\n",
    "print(f\"List after append: {shopping_list}\")"
   ]
  },
  {
   "cell_type": "code",
   "execution_count": 13,
   "id": "0780dc2e",
   "metadata": {},
   "outputs": [
    {
     "name": "stdout",
     "output_type": "stream",
     "text": [
      "List before pop: ['apples', 'brown bread', 'milk', 'eggs', 'cheese']\n",
      "List after popping index 3: ['apples', 'brown bread', 'milk', 'cheese']\n"
     ]
    }
   ],
   "source": [
    "# Removing an item\n",
    "print(f\"List before pop: {shopping_list}\")\n",
    "\n",
    "# I have enough eggs, let's remove them (they are at index 3)\n",
    "shopping_list.pop(3)\n",
    "print(f\"List after popping index 3: {shopping_list}\")"
   ]
  },
  {
   "cell_type": "markdown",
   "id": "d0fd252a",
   "metadata": {},
   "source": [
    "#### Getting the Length of a List\n",
    "To see how many items are in a list, you can use the built in len() function. "
   ]
  },
  {
   "cell_type": "code",
   "execution_count": 14,
   "id": "f8928356",
   "metadata": {},
   "outputs": [
    {
     "name": "stdout",
     "output_type": "stream",
     "text": [
      "There are 4 items on my shopping list.\n"
     ]
    }
   ],
   "source": [
    "number_of_items = len(shopping_list)\n",
    "print(f\"There are {number_of_items} items on my shopping list.\")"
   ]
  },
  {
   "cell_type": "markdown",
   "id": "8ba1f282",
   "metadata": {},
   "source": [
    "## Dictionaries (Key-Value Pairs)\n",
    "Now, imagine you have a contact in your phone. You don't just have their name; you have a name __connected__ to a phone number, and an email address connected to their name.\n",
    "\n",
    "A dictionary stores these connections. It holds a collection of **key-value pairs**. It's an unordered collection where you have look up a vlaue using its unique key. \n",
    "\n",
    "#### Creating a Dictionary\n",
    "You create a dictionary using curly braces {}. Inside, you write key: value pairs, sepereated by commas. Keys are almost always strings."
   ]
  },
  {
   "cell_type": "code",
   "execution_count": 15,
   "id": "94bd5a8d",
   "metadata": {},
   "outputs": [
    {
     "name": "stdout",
     "output_type": "stream",
     "text": [
      "{'username': 'DataWizard123', 'age': 34, 'is_active': True, 'city': 'London'}\n"
     ]
    }
   ],
   "source": [
    "# A dictionary representing a user profile\n",
    "user_profile = {\n",
    "    'username': 'DataWizard123',\n",
    "    'age': 34,\n",
    "    'is_active': True,\n",
    "    'city': 'London'\n",
    "}\n",
    "\n",
    "print(user_profile)"
   ]
  },
  {
   "cell_type": "markdown",
   "id": "f4154063",
   "metadata": {},
   "source": [
    "#### Modifying Dictionaries\n",
    "Like lists we also are able to change dictionaries. \n",
    "\n",
    "1. Adding a new key-value pair: You can add a new entry just by assigning a value to a new key\n",
    "2. Updating an existing value: If the key already exists, assigning a new value to it will overwrite the old one"
   ]
  },
  {
   "cell_type": "code",
   "execution_count": 16,
   "id": "04954052",
   "metadata": {},
   "outputs": [
    {
     "name": "stdout",
     "output_type": "stream",
     "text": [
      "Dictionary before adding: {'username': 'DataWizard123', 'age': 34, 'is_active': True, 'city': 'London'}\n",
      "Dictionary after adding: {'username': 'DataWizard123', 'age': 34, 'is_active': True, 'city': 'London', 'profession': 'Text Analyst'}\n"
     ]
    }
   ],
   "source": [
    "# Adding a key-value pair\n",
    "print(f\"Dictionary before adding: {user_profile}\")\n",
    "\n",
    "# Let's add the user's profession\n",
    "user_profile['profession'] = 'Text Analyst'\n",
    "print(f\"Dictionary after adding: {user_profile}\")"
   ]
  },
  {
   "cell_type": "code",
   "execution_count": 17,
   "id": "e7f636f1",
   "metadata": {},
   "outputs": [
    {
     "name": "stdout",
     "output_type": "stream",
     "text": [
      "User's age before: 34\n",
      "User's age after: 35\n"
     ]
    }
   ],
   "source": [
    "# Updating an existing value\n",
    "print(f\"User's age before: {user_profile['age']}\")\n",
    "\n",
    "# The user had a birthday!\n",
    "user_profile['age'] = 35\n",
    "print(f\"User's age after: {user_profile['age']}\")"
   ]
  },
  {
   "cell_type": "markdown",
   "id": "f63b1672",
   "metadata": {},
   "source": [
    "## Exercises 1: \n",
    "Time to practice! Try to complete these small challenges in the code cells below \n",
    "\n",
    "#### Exercise 1: Film Club\n",
    "1. Create a list named **favourite_film** containing three of your favourtie film as strings. \n",
    "2. Add a fourth film to the end of the list using .append()\n",
    "3. Print the very first film in your list \n",
    "4. Print the final list"
   ]
  },
  {
   "cell_type": "code",
   "execution_count": 18,
   "id": "a14e7aaf",
   "metadata": {},
   "outputs": [],
   "source": [
    "# Your code for this exercise here"
   ]
  },
  {
   "cell_type": "markdown",
   "id": "30255560",
   "metadata": {},
   "source": [
    "#### Exercise 2: Film Details\n",
    "1. create a dictionary named film_details for one of the films in your list.\n",
    "2. The dictionary should have keys for 'title', 'director', and 'release_year'.\n",
    "3. Add a new key-value pair to the dictionary: 'language': 'English'.\n",
    "4. Print out the director's name from the dictionary."
   ]
  },
  {
   "cell_type": "code",
   "execution_count": 19,
   "id": "ba6e838d",
   "metadata": {},
   "outputs": [],
   "source": [
    "# Add you code here"
   ]
  },
  {
   "cell_type": "markdown",
   "id": "6b7dd944",
   "metadata": {},
   "source": [
    "## Conclusion\n",
    "You now should have a better understanding of the two fundamental weays to store collections of data in Python.\n",
    "- **Lists** [] are ordered sequences of items.\n",
    "- **Dictioanries** {} are storing connected data as key-value pairs. \n",
    "\n",
    "You will use these two data structures constantly in text analysis. For example, a document might become a list of sentences, and a sentence might become a list of words. We can use dictionary to store the counts of every word in our text. "
   ]
  }
 ],
 "metadata": {
  "kernelspec": {
   "display_name": "base",
   "language": "python",
   "name": "python3"
  },
  "language_info": {
   "codemirror_mode": {
    "name": "ipython",
    "version": 3
   },
   "file_extension": ".py",
   "mimetype": "text/x-python",
   "name": "python",
   "nbconvert_exporter": "python",
   "pygments_lexer": "ipython3",
   "version": "3.13.5"
  }
 },
 "nbformat": 4,
 "nbformat_minor": 5
}
